{
 "cells": [
  {
   "cell_type": "code",
   "execution_count": 2,
   "metadata": {
    "collapsed": true,
    "pycharm": {
     "is_executing": false
    }
   },
   "outputs": [],
   "source": [
    "import uproot as ur\n",
    "import numpy as np"
   ]
  },
  {
   "cell_type": "code",
   "execution_count": 3,
   "metadata": {
    "pycharm": {
     "is_executing": false,
     "name": "#%%\n"
    }
   },
   "outputs": [],
   "source": [
    "filepath = '/home/oliverkn/pro/real_data_test/test.root'\n",
    "#filepath = 'root://eospublic.cern.ch//eos/opendata/cms/Run2012B/SingleMu/AOD/22Jan2013-v1/20000/0007064B-ED80-E211-A5C8-90E6BA0D0989.root'\n",
    "f = ur.open(filepath)\n",
    "e = f['Events']"
   ]
  },
  {
   "cell_type": "code",
   "execution_count": 4,
   "metadata": {
    "pycharm": {
     "is_executing": false,
     "name": "#%%\n"
    }
   },
   "outputs": [
    {
     "data": {
      "text/plain": "['EventAuxiliary',\n 'EventProductProvenance',\n 'EventSelections',\n 'BranchListIndexes',\n 'edmTriggerResults_TriggerResults__HLT.',\n 'triggerTriggerEvent_hltTriggerSummaryAOD__HLT.',\n 'ClusterSummary_clusterSummaryProducer__RECO.',\n 'EBDigiCollection_selectDigi_selectedEcalEBDigiCollection_RECO.',\n 'EEDigiCollection_selectDigi_selectedEcalEEDigiCollection_RECO.',\n 'HcalNoiseSummary_hcalnoise__RECO.',\n 'HcalUnpackerReport_castorDigis__RECO.',\n 'HcalUnpackerReport_hcalDigis__RECO.',\n 'L1GlobalTriggerObjectMaps_l1L1GtObjectMap__RECO.',\n 'L1GlobalTriggerReadoutRecord_gtDigis__RECO.',\n 'double_fixedGridRhoAll__RECO.',\n 'double_fixedGridRhoFastjetAll__RECO.',\n 'double_ak5CaloJets_rho_RECO.',\n 'double_ak5PFJets_rho_RECO.',\n 'double_ak5TrackJets_rho_RECO.',\n 'double_ak7BasicJets_rho_RECO.',\n 'double_ak7CaloJets_rho_RECO.',\n 'double_ak7PFJets_rho_RECO.',\n 'double_kt4CaloJets_rho_RECO.',\n 'double_kt4PFJets_rho_RECO.',\n 'double_kt6CaloJets_rho_RECO.',\n 'double_kt6CaloJetsCentral_rho_RECO.',\n 'double_kt6PFJets_rho_RECO.',\n 'double_kt6PFJetsCentralChargedPileUp_rho_RECO.',\n 'double_kt6PFJetsCentralNeutral_rho_RECO.',\n 'double_kt6PFJetsCentralNeutralTight_rho_RECO.',\n 'double_ak5CaloJets_sigma_RECO.',\n 'double_ak5PFJets_sigma_RECO.',\n 'double_ak5TrackJets_sigma_RECO.',\n 'double_ak7BasicJets_sigma_RECO.',\n 'double_ak7CaloJets_sigma_RECO.',\n 'double_ak7PFJets_sigma_RECO.',\n 'double_kt4CaloJets_sigma_RECO.',\n 'double_kt4PFJets_sigma_RECO.',\n 'double_kt6CaloJets_sigma_RECO.',\n 'double_kt6CaloJetsCentral_sigma_RECO.',\n 'double_kt6PFJets_sigma_RECO.',\n 'double_kt6PFJetsCentralChargedPileUp_sigma_RECO.',\n 'double_kt6PFJetsCentralNeutral_sigma_RECO.',\n 'double_kt6PFJetsCentralNeutralTight_sigma_RECO.',\n 'recoSuperClustersToOnerecoHFEMClusterShapesAssociation_hfEMClusters__RECO.',\n 'recoTracksToOnerecoTracksAssociation_tevMuons_default_RECO.',\n 'recoTracksToOnerecoTracksAssociation_tevMuons_dyt_RECO.',\n 'recoTracksToOnerecoTracksAssociation_tevMuons_firstHit_RECO.',\n 'recoTracksToOnerecoTracksAssociation_tevMuons_picky_RECO.',\n 'recoJetedmRefToBaseProdrecoTracksrecoTrackrecoTracksTorecoTrackedmrefhelperFindUsingAdvanceedmRefVectorsAssociationVector_ak5JetTracksAssociatorAtVertex__RECO.',\n 'recoJetedmRefToBaseProdrecoTracksrecoTrackrecoTracksTorecoTrackedmrefhelperFindUsingAdvanceedmRefVectorsAssociationVector_ak7JetTracksAssociatorAtVertex__RECO.',\n 'recoJetedmRefToBaseProdTofloatsAssociationVector_combinedSecondaryVertexBJetTags__RECO.',\n 'recoJetedmRefToBaseProdTofloatsAssociationVector_combinedSecondaryVertexMVABJetTags__RECO.',\n 'recoJetedmRefToBaseProdTofloatsAssociationVector_ghostTrackBJetTags__RECO.',\n 'recoJetedmRefToBaseProdTofloatsAssociationVector_jetBProbabilityBJetTags__RECO.',\n 'recoJetedmRefToBaseProdTofloatsAssociationVector_jetProbabilityBJetTags__RECO.',\n 'recoJetedmRefToBaseProdTofloatsAssociationVector_simpleSecondaryVertexHighEffBJetTags__RECO.',\n 'recoJetedmRefToBaseProdTofloatsAssociationVector_simpleSecondaryVertexHighPurBJetTags__RECO.',\n 'recoJetedmRefToBaseProdTofloatsAssociationVector_softElectronByIP3dBJetTags__RECO.',\n 'recoJetedmRefToBaseProdTofloatsAssociationVector_softElectronByPtBJetTags__RECO.',\n 'recoJetedmRefToBaseProdTofloatsAssociationVector_softMuonBJetTags__RECO.',\n 'recoJetedmRefToBaseProdTofloatsAssociationVector_softMuonByIP3dBJetTags__RECO.',\n 'recoJetedmRefToBaseProdTofloatsAssociationVector_softMuonByPtBJetTags__RECO.',\n 'recoJetedmRefToBaseProdTofloatsAssociationVector_trackCountingHighEffBJetTags__RECO.',\n 'recoJetedmRefToBaseProdTofloatsAssociationVector_trackCountingHighPurBJetTags__RECO.',\n 'recoJetedmRefToBaseProdTorecoJetExtendedAssociationJetExtendedDatasAssociationVector_ak5JetExtender__RECO.',\n 'recoJetedmRefToBaseProdTorecoJetExtendedAssociationJetExtendedDatasAssociationVector_ak7JetExtender__RECO.',\n 'recoJetedmRefToBaseProdTorecoJetExtendedAssociationJetExtendedDatasAssociationVector_kt4JetExtender__RECO.',\n 'edmConditionsInEventBlock_conditionsInEdm__RECO.',\n 'TrackingRecHitsOwned_refittedStandAloneMuons__RECO.',\n 'TrackingRecHitsOwned_standAloneMuons__RECO.',\n 'CaloTowersSorted_towerMaker__RECO.',\n 'CastorRecHitsSorted_castorreco__RECO.',\n 'EcalRecHitsSorted_reducedEcalRecHitsEB__RECO.',\n 'EcalRecHitsSorted_reducedEcalRecHitsEE__RECO.',\n 'EcalRecHitsSorted_reducedEcalRecHitsES__RECO.',\n 'HBHERecHitsSorted_reducedHcalRecHits_hbhereco_RECO.',\n 'HFRecHitsSorted_reducedHcalRecHits_hfreco_RECO.',\n 'HORecHitsSorted_reducedHcalRecHits_horeco_RECO.',\n 'edmTriggerResults_TriggerResults__RECO.',\n 'booledmValueMap_PhotonIDProd_PhotonCutBasedIDLoose_RECO.',\n 'booledmValueMap_PhotonIDProd_PhotonCutBasedIDLooseEM_RECO.',\n 'booledmValueMap_PhotonIDProd_PhotonCutBasedIDTight_RECO.',\n 'booledmValueMap_muons_muidAllArbitrated_RECO.',\n 'booledmValueMap_muons_muidGMStaChiCompatibility_RECO.',\n 'booledmValueMap_muons_muidGMTkChiCompatibility_RECO.',\n 'booledmValueMap_muons_muidGMTkKinkTight_RECO.',\n 'booledmValueMap_muons_muidGlobalMuonPromptTight_RECO.',\n 'booledmValueMap_muons_muidTM2DCompatibilityLoose_RECO.',\n 'booledmValueMap_muons_muidTM2DCompatibilityTight_RECO.',\n 'booledmValueMap_muons_muidTMLastStationAngLoose_RECO.',\n 'booledmValueMap_muons_muidTMLastStationAngTight_RECO.',\n 'booledmValueMap_muons_muidTMLastStationLoose_RECO.',\n 'booledmValueMap_muons_muidTMLastStationOptimizedLowPtLoose_RECO.',\n 'booledmValueMap_muons_muidTMLastStationOptimizedLowPtTight_RECO.',\n 'booledmValueMap_muons_muidTMLastStationTight_RECO.',\n 'booledmValueMap_muons_muidTMOneStationAngLoose_RECO.',\n 'booledmValueMap_muons_muidTMOneStationAngTight_RECO.',\n 'booledmValueMap_muons_muidTMOneStationLoose_RECO.',\n 'booledmValueMap_muons_muidTMOneStationTight_RECO.',\n 'booledmValueMap_muons_muidTrackerMuonArbitrated_RECO.',\n 'doubleedmValueMap_muons_muPFIsoValueCharged03_RECO.',\n 'doubleedmValueMap_muons_muPFIsoValueCharged04_RECO.',\n 'doubleedmValueMap_muons_muPFIsoValueChargedAll03_RECO.',\n 'doubleedmValueMap_muons_muPFIsoValueChargedAll04_RECO.',\n 'doubleedmValueMap_muons_muPFIsoValueGamma03_RECO.',\n 'doubleedmValueMap_muons_muPFIsoValueGamma04_RECO.',\n 'doubleedmValueMap_muons_muPFIsoValueNeutral03_RECO.',\n 'doubleedmValueMap_muons_muPFIsoValueNeutral04_RECO.',\n 'doubleedmValueMap_muons_muPFIsoValuePU03_RECO.',\n 'doubleedmValueMap_muons_muPFIsoValuePU04_RECO.',\n 'recoPFCandidateedmPtredmValueMap_particleFlow_electrons_RECO.',\n 'recoPFCandidateedmPtredmValueMap_particleFlow_muons_RECO.',\n 'recoPFCandidateedmPtredmValueMap_particleFlow_photons_RECO.',\n 'floatedmValueMap_eidLoose__RECO.',\n 'floatedmValueMap_eidRobustHighEnergy__RECO.',\n 'floatedmValueMap_eidRobustLoose__RECO.',\n 'floatedmValueMap_eidRobustTight__RECO.',\n 'floatedmValueMap_eidTight__RECO.',\n 'recoCastorJetIDedmValueMap_ak7CastorJetID__RECO.',\n 'recoDeDxDataedmValueMap_dedxDiscrimASmi__RECO.',\n 'recoDeDxDataedmValueMap_dedxHarmonic2__RECO.',\n 'recoIsoDepositedmValueMap_muIsoDepositJets__RECO.',\n 'recoIsoDepositedmValueMap_muIsoDepositTk__RECO.',\n 'recoIsoDepositedmValueMap_muIsoDepositCalByAssociatorTowers_ecal_RECO.',\n 'recoIsoDepositedmValueMap_muons_ecal_RECO.',\n 'recoIsoDepositedmValueMap_muIsoDepositCalByAssociatorTowers_hcal_RECO.',\n 'recoIsoDepositedmValueMap_muons_hcal_RECO.',\n 'recoIsoDepositedmValueMap_muIsoDepositCalByAssociatorTowers_ho_RECO.',\n 'recoIsoDepositedmValueMap_muons_ho_RECO.',\n 'recoIsoDepositedmValueMap_muons_muIsoDepositJets_RECO.',\n 'recoIsoDepositedmValueMap_muons_muIsoDepositTk_RECO.',\n 'recoJetIDedmValueMap_ak5JetID__RECO.',\n 'recoJetIDedmValueMap_ak7JetID__RECO.',\n 'recoJetIDedmValueMap_kt4JetID__RECO.',\n 'recoJetIDedmValueMap_kt6JetID__RECO.',\n 'recoMuonCosmicCompatibilityedmValueMap_muons_cosmicsVeto_RECO.',\n 'recoMuonMETCorrectionDataedmValueMap_muonMETValueMapProducer_muCorrData_RECO.',\n 'recoMuonMETCorrectionDataedmValueMap_muonTCMETValueMapProducer_muCorrData_RECO.',\n 'recoMuonShoweredmValueMap_muons_muonShowerInformation_RECO.',\n 'recoMuonTimeExtraedmValueMap_muons_combined_RECO.',\n 'recoMuonTimeExtraedmValueMap_muons_csc_RECO.',\n 'recoMuonTimeExtraedmValueMap_muons_dt_RECO.',\n 'uintedmValueMap_muons_cosmicsVeto_RECO.',\n 'recoBeamHaloSummary_BeamHaloSummary__RECO.',\n 'recoBeamSpot_offlineBeamSpot__RECO.',\n 'recoCaloTauDiscriminator_caloRecoTauDiscriminationAgainstElectron__RECO.',\n 'recoCaloTauDiscriminator_caloRecoTauDiscriminationAgainstMuon__RECO.',\n 'recoCaloTauDiscriminator_caloRecoTauDiscriminationByECALIsolation__RECO.',\n 'recoCaloTauDiscriminator_caloRecoTauDiscriminationByIsolation__RECO.',\n 'recoCaloTauDiscriminator_caloRecoTauDiscriminationByLeadingTrackFinding__RECO.',\n 'recoCaloTauDiscriminator_caloRecoTauDiscriminationByLeadingTrackPtCut__RECO.',\n 'recoCaloTauDiscriminator_caloRecoTauDiscriminationByTrackIsolation__RECO.',\n 'recoGlobalHaloData_GlobalHaloData__RECO.',\n 'recoJetPiZeroAssociation_ak5PFJetsRecoTauPiZeros__RECO.',\n 'recoPFTauDiscriminator_hpsPFTauDiscriminationByDecayModeFinding__RECO.',\n 'recoPFTauDiscriminator_hpsPFTauDiscriminationByLooseChargedIsolation__RECO.',\n 'recoPFTauDiscriminator_hpsPFTauDiscriminationByLooseCombinedIsolationDBSumPtCorr__RECO.',\n 'recoPFTauDiscriminator_hpsPFTauDiscriminationByLooseElectronRejection__RECO.',\n 'recoPFTauDiscriminator_hpsPFTauDiscriminationByLooseIsolation__RECO.',\n 'recoPFTauDiscriminator_hpsPFTauDiscriminationByLooseIsolationDBSumPtCorr__RECO.',\n 'recoPFTauDiscriminator_hpsPFTauDiscriminationByLooseMuonRejection__RECO.',\n 'recoPFTauDiscriminator_hpsPFTauDiscriminationByMVAElectronRejection__RECO.',\n 'recoPFTauDiscriminator_hpsPFTauDiscriminationByMediumChargedIsolation__RECO.',\n 'recoPFTauDiscriminator_hpsPFTauDiscriminationByMediumCombinedIsolationDBSumPtCorr__RECO.',\n 'recoPFTauDiscriminator_hpsPFTauDiscriminationByMediumElectronRejection__RECO.',\n 'recoPFTauDiscriminator_hpsPFTauDiscriminationByMediumIsolation__RECO.',\n 'recoPFTauDiscriminator_hpsPFTauDiscriminationByMediumIsolationDBSumPtCorr__RECO.',\n 'recoPFTauDiscriminator_hpsPFTauDiscriminationByMediumMuonRejection__RECO.',\n 'recoPFTauDiscriminator_hpsPFTauDiscriminationByRawChargedIsolationDBSumPtCorr__RECO.',\n 'recoPFTauDiscriminator_hpsPFTauDiscriminationByRawCombinedIsolationDBSumPtCorr__RECO.',\n 'recoPFTauDiscriminator_hpsPFTauDiscriminationByRawGammaIsolationDBSumPtCorr__RECO.',\n 'recoPFTauDiscriminator_hpsPFTauDiscriminationByTightChargedIsolation__RECO.',\n 'recoPFTauDiscriminator_hpsPFTauDiscriminationByTightCombinedIsolationDBSumPtCorr__RECO.',\n 'recoPFTauDiscriminator_hpsPFTauDiscriminationByTightElectronRejection__RECO.',\n 'recoPFTauDiscriminator_hpsPFTauDiscriminationByTightIsolation__RECO.',\n 'recoPFTauDiscriminator_hpsPFTauDiscriminationByTightIsolationDBSumPtCorr__RECO.',\n 'recoPFTauDiscriminator_hpsPFTauDiscriminationByTightMuonRejection__RECO.',\n 'recoPFTauDiscriminator_hpsPFTauDiscriminationByVLooseChargedIsolation__RECO.',\n 'recoPFTauDiscriminator_hpsPFTauDiscriminationByVLooseCombinedIsolationDBSumPtCorr__RECO.',\n 'recoPFTauDiscriminator_hpsPFTauDiscriminationByVLooseIsolation__RECO.',\n 'recoPFTauDiscriminator_hpsPFTauDiscriminationByVLooseIsolationDBSumPtCorr__RECO.',\n 'recoPFTauDiscriminator_hpsTancTausDiscriminationByDecayModeSelection__RECO.',\n 'recoPFTauDiscriminator_hpsTancTausDiscriminationByLeadingPionPtCut__RECO.',\n 'recoPFTauDiscriminator_hpsTancTausDiscriminationByLeadingTrackFinding__RECO.',\n 'recoPFTauDiscriminator_hpsTancTausDiscriminationByLeadingTrackPtCut__RECO.',\n 'recoPFTauDiscriminator_hpsTancTausDiscriminationByLooseElectronRejection__RECO.',\n 'recoPFTauDiscriminator_hpsTancTausDiscriminationByLooseIsolation__RECO.',\n 'recoPFTauDiscriminator_hpsTancTausDiscriminationByLooseMuonRejection__RECO.',\n 'recoPFTauDiscriminator_hpsTancTausDiscriminationByMediumElectronRejection__RECO.',\n 'recoPFTauDiscriminator_hpsTancTausDiscriminationByMediumIsolation__RECO.',\n 'recoPFTauDiscriminator_hpsTancTausDiscriminationByTanc__RECO.',\n 'recoPFTauDiscriminator_hpsTancTausDiscriminationByTancLoose__RECO.',\n 'recoPFTauDiscriminator_hpsTancTausDiscriminationByTancMedium__RECO.',\n 'recoPFTauDiscriminator_hpsTancTausDiscriminationByTancRaw__RECO.',\n 'recoPFTauDiscriminator_hpsTancTausDiscriminationByTancTight__RECO.',\n 'recoPFTauDiscriminator_hpsTancTausDiscriminationByTancVLoose__RECO.',\n 'recoPFTauDiscriminator_hpsTancTausDiscriminationByTightElectronRejection__RECO.',\n 'recoPFTauDiscriminator_hpsTancTausDiscriminationByTightIsolation__RECO.',\n 'recoPFTauDiscriminator_hpsTancTausDiscriminationByTightMuonRejection__RECO.',\n 'recoPFTauDiscriminator_hpsTancTausDiscriminationByVLooseIsolation__RECO.',\n 'recoPFTauDiscriminator_shrinkingConePFTauDiscriminationAgainstElectron__RECO.',\n 'recoPFTauDiscriminator_shrinkingConePFTauDiscriminationAgainstMuon__RECO.',\n 'recoPFTauDiscriminator_shrinkingConePFTauDiscriminationByECALIsolation__RECO.',\n 'recoPFTauDiscriminator_shrinkingConePFTauDiscriminationByECALIsolationUsingLeadingPion__RECO.',\n 'recoPFTauDiscriminator_shrinkingConePFTauDiscriminationByIsolation__RECO.',\n 'recoPFTauDiscriminator_shrinkingConePFTauDiscriminationByIsolationUsingLeadingPion__RECO.',\n 'recoPFTauDiscriminator_shrinkingConePFTauDiscriminationByLeadingPionPtCut__RECO.',\n 'recoPFTauDiscriminator_shrinkingConePFTauDiscriminationByLeadingTrackFinding__RECO.',\n 'recoPFTauDiscriminator_shrinkingConePFTauDiscriminationByLeadingTrackPtCut__RECO.',\n 'recoPFTauDiscriminator_shrinkingConePFTauDiscriminationByTaNC__RECO.',\n 'recoPFTauDiscriminator_shrinkingConePFTauDiscriminationByTaNCfrHalfPercent__RECO.',\n 'recoPFTauDiscriminator_shrinkingConePFTauDiscriminationByTaNCfrOnePercent__RECO.',\n 'recoPFTauDiscriminator_shrinkingConePFTauDiscriminationByTaNCfrQuarterPercent__RECO.',\n 'recoPFTauDiscriminator_shrinkingConePFTauDiscriminationByTaNCfrTenthPercent__RECO.',\n 'recoPFTauDiscriminator_shrinkingConePFTauDiscriminationByTrackIsolation__RECO.',\n 'recoPFTauDiscriminator_shrinkingConePFTauDiscriminationByTrackIsolationUsingLeadingPion__RECO.',\n 'BeamSpotOnlines_scalersRawToDigi__RECO.',\n 'DcsStatuss_scalersRawToDigi__RECO.',\n 'L1AcceptBunchCrossings_scalersRawToDigi__RECO.',\n 'L1TriggerScalerss_scalersRawToDigi__RECO.',\n 'Level1TriggerScalerss_scalersRawToDigi__RECO.',\n 'LumiScalerss_scalersRawToDigi__RECO.',\n 'doubles_ak5CaloJets_rhos_RECO.',\n 'doubles_ak5PFJets_rhos_RECO.',\n 'doubles_ak5TrackJets_rhos_RECO.',\n 'doubles_ak7BasicJets_rhos_RECO.',\n 'doubles_ak7CaloJets_rhos_RECO.',\n 'doubles_ak7PFJets_rhos_RECO.',\n 'doubles_kt4CaloJets_rhos_RECO.',\n 'doubles_kt4PFJets_rhos_RECO.',\n 'doubles_kt6CaloJets_rhos_RECO.',\n 'doubles_kt6PFJets_rhos_RECO.',\n 'doubles_ak5CaloJets_sigmas_RECO.',\n 'doubles_ak5PFJets_sigmas_RECO.',\n 'doubles_ak5TrackJets_sigmas_RECO.',\n 'doubles_ak7BasicJets_sigmas_RECO.',\n 'doubles_ak7CaloJets_sigmas_RECO.',\n 'doubles_ak7PFJets_sigmas_RECO.',\n 'doubles_kt4CaloJets_sigmas_RECO.',\n 'doubles_kt4PFJets_sigmas_RECO.',\n 'doubles_kt6CaloJets_sigmas_RECO.',\n 'doubles_kt6PFJets_sigmas_RECO.',\n 'edmErrorSummaryEntrys_logErrorHarvester__RECO.',\n 'l1extraL1EmParticles_l1extraParticles_Isolated_RECO.',\n 'l1extraL1EmParticles_l1extraParticles_NonIsolated_RECO.',\n 'l1extraL1EtMissParticles_l1extraParticles_MET_RECO.',\n 'l1extraL1EtMissParticles_l1extraParticles_MHT_RECO.',\n 'l1extraL1HFRingss_l1extraParticles__RECO.',\n 'l1extraL1JetParticles_l1extraParticles_Central_RECO.',\n 'l1extraL1JetParticles_l1extraParticles_Forward_RECO.',\n 'l1extraL1JetParticles_l1extraParticles_Tau_RECO.',\n 'l1extraL1MuonParticles_l1extraParticles__RECO.',\n 'recoBasicJets_ak7BasicJets__RECO.',\n 'recoCaloClusters_hfEMClusters__RECO.',\n 'recoCaloClusters_hybridSuperClusters_hybridBarrelBasicClusters_RECO.',\n 'recoCaloClusters_multi5x5SuperClusters_multi5x5EndcapBasicClusters_RECO.',\n 'recoCaloClusters_pfElectronTranslator_pf_RECO.',\n 'recoCaloClusters_pfPhotonTranslator_pfphot_RECO.',\n 'recoCaloClusters_hybridSuperClusters_uncleanOnlyHybridBarrelBasicClusters_RECO.',\n 'recoCaloJets_ak5CaloJets__RECO.',\n 'recoCaloJets_ak7CaloJets__RECO.',\n 'recoCaloJets_kt4CaloJets__RECO.',\n 'recoCaloJets_kt6CaloJets__RECO.',\n 'recoCaloMETs_corMetGlobalMuons__RECO.',\n 'recoCaloMETs_met__RECO.',\n 'recoCaloMETs_metHO__RECO.',\n 'recoCaloMETs_metNoHF__RECO.',\n 'recoCaloTaus_caloRecoTauProducer__RECO.',\n 'recoCaloTauTagInfos_caloRecoTauTagInfoProducer__RECO.',\n 'recoCastorTowers_CastorTowerReco__RECO.',\n 'recoConversions_allConversions__RECO.',\n 'recoConversions_conversions__RECO.',\n 'recoConversions_uncleanedOnlyAllConversions__RECO.',\n 'recoConversions_pfPhotonTranslator_pfphot_RECO.',\n 'recoGsfElectrons_gsfElectrons__RECO.',\n 'recoGsfElectrons_uncleanedOnlyGsfElectrons__RECO.',\n 'recoGsfElectronCores_gsfElectronCores__RECO.',\n 'recoGsfElectronCores_uncleanedOnlyGsfElectronCores__RECO.',\n 'recoGsfTracks_electronGsfTracks__RECO.',\n 'recoHFEMClusterShapes_hfEMClusters__RECO.',\n 'recoJPTJets_JetPlusTrackZSPCorJetAntiKt5__RECO.',\n 'recoJPTJets_TCTauJetPlusTrackZSPCorJetAntiKt5__RECO.',\n 'recoMETs_htMetAK5__RECO.',\n 'recoMETs_htMetAK7__RECO.',\n 'recoMETs_htMetIC5__RECO.',\n 'recoMETs_htMetKT4__RECO.',\n 'recoMETs_htMetKT6__RECO.',\n 'recoMETs_tcMet__RECO.',\n 'recoMETs_tcMetWithPFclusters__RECO.',\n 'recoMuons_muons__RECO.',\n 'recoMuons_muonsFromCosmics__RECO.',\n 'recoMuons_muonsFromCosmics1Leg__RECO.',\n 'recoPFCandidates_particleFlow__RECO.',\n 'recoPFCandidates_particleFlowTmp_AddedMuonsAndHadrons_RECO.',\n 'recoPFCandidates_particleFlowTmp_CleanedCosmicsMuons_RECO.',\n 'recoPFCandidates_particleFlowTmp_CleanedFakeMuons_RECO.',\n 'recoPFCandidates_particleFlowTmp_CleanedHF_RECO.',\n 'recoPFCandidates_particleFlowTmp_CleanedPunchThroughMuons_RECO.',\n 'recoPFCandidates_particleFlowTmp_CleanedPunchThroughNeutralHadrons_RECO.',\n 'recoPFCandidates_particleFlowTmp_CleanedTrackerAndGlobalMuons_RECO.',\n 'recoPFCandidates_particleFlowTmp_electrons_RECO.',\n 'recoPFJets_ak5PFJets__RECO.',\n 'recoPFJets_ak7PFJets__RECO.',\n 'recoPFJets_kt4PFJets__RECO.',\n 'recoPFJets_kt6PFJets__RECO.',\n 'recoPFMETs_pfMet__RECO.',\n 'recoPFRecHits_particleFlowClusterECAL_Cleaned_RECO.',\n 'recoPFRecHits_particleFlowClusterHCAL_Cleaned_RECO.',\n 'recoPFRecHits_particleFlowClusterHFEM_Cleaned_RECO.',\n 'recoPFRecHits_particleFlowClusterHFHAD_Cleaned_RECO.',\n 'recoPFRecHits_particleFlowClusterHO_Cleaned_RECO.',\n 'recoPFRecHits_particleFlowClusterPS_Cleaned_RECO.',\n 'recoPFRecHits_particleFlowRecHitECAL_Cleaned_RECO.',\n 'recoPFRecHits_particleFlowRecHitHCAL_Cleaned_RECO.',\n 'recoPFRecHits_particleFlowRecHitHO_Cleaned_RECO.',\n 'recoPFRecHits_particleFlowRecHitPS_Cleaned_RECO.',\n 'recoPFTaus_hpsPFTauProducer__RECO.',\n 'recoPFTaus_hpsTancTaus__RECO.',\n 'recoPFTaus_shrinkingConePFTauProducer__RECO.',\n 'recoPhotons_photons__RECO.',\n 'recoPhotons_pfPhotonTranslator_pfphot_RECO.',\n 'recoPhotonCores_photonCore__RECO.',\n 'recoPhotonCores_pfPhotonTranslator_pfphot_RECO.',\n 'recoPreshowerClusters_pfElectronTranslator_pf_RECO.',\n 'recoPreshowerClusters_pfPhotonTranslator_pfphot_RECO.',\n 'recoPreshowerClusters_multi5x5SuperClustersWithPreshower_preshowerXClusters_RECO.',\n 'recoPreshowerClusters_multi5x5SuperClustersWithPreshower_preshowerYClusters_RECO.',\n 'recoPreshowerClusterShapes_multi5x5PreshowerClusterShape_multi5x5PreshowerXClustersShape_RECO.',\n 'recoPreshowerClusterShapes_multi5x5PreshowerClusterShape_multi5x5PreshowerYClustersShape_RECO.',\n 'recoRecoChargedRefCandidates_trackRefsForJets__RECO.',\n 'recoRecoEcalCandidates_hfRecoEcalCandidate__RECO.',\n 'recoRecoTauPiZeros_hpsPFTauProducer_pizeros_RECO.',\n 'recoRecoTauPiZeros_hpsTancTaus_pizeros_RECO.',\n 'recoRecoTauPiZeros_shrinkingConePFTauProducer_pizeros_RECO.',\n 'recoSuperClusters_correctedHybridSuperClusters__RECO.',\n 'recoSuperClusters_correctedMulti5x5SuperClustersWithPreshower__RECO.',\n 'recoSuperClusters_hfEMClusters__RECO.',\n 'recoSuperClusters_pfElectronTranslator_pf_RECO.',\n 'recoSuperClusters_pfPhotonTranslator_pfphot_RECO.',\n 'recoSuperClusters_hybridSuperClusters_uncleanOnlyHybridSuperClusters_RECO.',\n 'recoTracks_ckfInOutTracksFromConversions__RECO.',\n 'recoTracks_ckfOutInTracksFromConversions__RECO.',\n 'recoTracks_conversionStepTracks__RECO.',\n 'recoTracks_cosmicMuons__RECO.',\n 'recoTracks_cosmicMuons1Leg__RECO.',\n 'recoTracks_generalTracks__RECO.',\n 'recoTracks_globalCosmicMuons__RECO.',\n 'recoTracks_globalCosmicMuons1Leg__RECO.',\n 'recoTracks_globalMuons__RECO.',\n 'recoTracks_refittedStandAloneMuons__RECO.',\n 'recoTracks_regionalCosmicTracks__RECO.',\n 'recoTracks_standAloneMuons__RECO.',\n 'recoTracks_uncleanedOnlyCkfInOutTracksFromConversions__RECO.',\n 'recoTracks_uncleanedOnlyCkfOutInTracksFromConversions__RECO.',\n 'recoTracks_refittedStandAloneMuons_UpdatedAtVtx_RECO.',\n 'recoTracks_standAloneMuons_UpdatedAtVtx_RECO.',\n 'recoTracks_tevMuons_default_RECO.',\n 'recoTracks_tevMuons_dyt_RECO.',\n 'recoTracks_tevMuons_firstHit_RECO.',\n 'recoTracks_tevMuons_picky_RECO.',\n 'recoTrackExtras_globalMuons__RECO.',\n 'recoTrackExtras_refittedStandAloneMuons__RECO.',\n 'recoTrackExtras_standAloneMuons__RECO.',\n 'recoTrackExtras_tevMuons_default_RECO.',\n 'recoTrackExtras_tevMuons_dyt_RECO.',\n 'recoTrackExtras_tevMuons_firstHit_RECO.',\n 'recoTrackExtras_tevMuons_picky_RECO.',\n 'recoTrackExtrapolations_trackExtrapolator__RECO.',\n 'recoTrackJets_ak5TrackJets__RECO.',\n 'recoVertexs_offlinePrimaryVertices__RECO.',\n 'recoVertexs_offlinePrimaryVerticesWithBS__RECO.',\n 'recoVertexCompositeCandidates_generalV0Candidates_Kshort_RECO.',\n 'recoVertexCompositeCandidates_generalV0Candidates_Lambda_RECO.']"
     },
     "metadata": {},
     "output_type": "execute_result",
     "execution_count": 4
    }
   ],
   "source": [
    "e.keys()"
   ]
  },
  {
   "cell_type": "code",
   "execution_count": 6,
   "metadata": {
    "pycharm": {
     "is_executing": false,
     "name": "#%%\n"
    }
   },
   "outputs": [
    {
     "data": {
      "text/plain": "[]"
     },
     "metadata": {},
     "output_type": "execute_result",
     "execution_count": 6
    }
   ],
   "source": [
    "e['EventAuxiliary'].keys()"
   ]
  },
  {
   "cell_type": "code",
   "execution_count": 9,
   "metadata": {
    "pycharm": {
     "is_executing": false,
     "name": "#%%\n"
    }
   },
   "outputs": [
    {
     "ename": "AssertionError",
     "evalue": "",
     "traceback": [
      "\u001b[0;31m\u001b[0m",
      "\u001b[0;31mAssertionError\u001b[0mTraceback (most recent call last)",
      "\u001b[0;32m<ipython-input-9-efb49a562ea7>\u001b[0m in \u001b[0;36m<module>\u001b[0;34m()\u001b[0m\n\u001b[1;32m      1\u001b[0m \u001b[0;34m\u001b[0m\u001b[0m\n\u001b[0;32m----> 2\u001b[0;31m \u001b[0mvalues\u001b[0m \u001b[0;34m=\u001b[0m \u001b[0me\u001b[0m\u001b[0;34m.\u001b[0m\u001b[0marray\u001b[0m\u001b[0;34m(\u001b[0m\u001b[0;34m'EventAuxiliary'\u001b[0m\u001b[0;34m)\u001b[0m\u001b[0;34m\u001b[0m\u001b[0;34m\u001b[0m\u001b[0m\n\u001b[0m\u001b[1;32m      3\u001b[0m \u001b[0;34m\u001b[0m\u001b[0m\n",
      "\u001b[0;32m/home/oliverkn/cloud/eth/2019_FS/pro/pycharm_ntuplizer/venv/local/lib/python2.7/site-packages/uproot/tree.pyc\u001b[0m in \u001b[0;36marray\u001b[0;34m(self, branch, interpretation, entrystart, entrystop, flatten, awkwardlib, cache, basketcache, keycache, executor, blocking)\u001b[0m\n\u001b[1;32m    497\u001b[0m \u001b[0;34m\u001b[0m\u001b[0m\n\u001b[1;32m    498\u001b[0m     \u001b[0;32mdef\u001b[0m \u001b[0marray\u001b[0m\u001b[0;34m(\u001b[0m\u001b[0mself\u001b[0m\u001b[0;34m,\u001b[0m \u001b[0mbranch\u001b[0m\u001b[0;34m,\u001b[0m \u001b[0minterpretation\u001b[0m\u001b[0;34m=\u001b[0m\u001b[0mNone\u001b[0m\u001b[0;34m,\u001b[0m \u001b[0mentrystart\u001b[0m\u001b[0;34m=\u001b[0m\u001b[0mNone\u001b[0m\u001b[0;34m,\u001b[0m \u001b[0mentrystop\u001b[0m\u001b[0;34m=\u001b[0m\u001b[0mNone\u001b[0m\u001b[0;34m,\u001b[0m \u001b[0mflatten\u001b[0m\u001b[0;34m=\u001b[0m\u001b[0mFalse\u001b[0m\u001b[0;34m,\u001b[0m \u001b[0mawkwardlib\u001b[0m\u001b[0;34m=\u001b[0m\u001b[0mNone\u001b[0m\u001b[0;34m,\u001b[0m \u001b[0mcache\u001b[0m\u001b[0;34m=\u001b[0m\u001b[0mNone\u001b[0m\u001b[0;34m,\u001b[0m \u001b[0mbasketcache\u001b[0m\u001b[0;34m=\u001b[0m\u001b[0mNone\u001b[0m\u001b[0;34m,\u001b[0m \u001b[0mkeycache\u001b[0m\u001b[0;34m=\u001b[0m\u001b[0mNone\u001b[0m\u001b[0;34m,\u001b[0m \u001b[0mexecutor\u001b[0m\u001b[0;34m=\u001b[0m\u001b[0mNone\u001b[0m\u001b[0;34m,\u001b[0m \u001b[0mblocking\u001b[0m\u001b[0;34m=\u001b[0m\u001b[0mTrue\u001b[0m\u001b[0;34m)\u001b[0m\u001b[0;34m:\u001b[0m\u001b[0;34m\u001b[0m\u001b[0;34m\u001b[0m\u001b[0m\n\u001b[0;32m--> 499\u001b[0;31m         \u001b[0;32mreturn\u001b[0m \u001b[0mself\u001b[0m\u001b[0;34m.\u001b[0m\u001b[0mget\u001b[0m\u001b[0;34m(\u001b[0m\u001b[0mbranch\u001b[0m\u001b[0;34m)\u001b[0m\u001b[0;34m.\u001b[0m\u001b[0marray\u001b[0m\u001b[0;34m(\u001b[0m\u001b[0minterpretation\u001b[0m\u001b[0;34m=\u001b[0m\u001b[0minterpretation\u001b[0m\u001b[0;34m,\u001b[0m \u001b[0mentrystart\u001b[0m\u001b[0;34m=\u001b[0m\u001b[0mentrystart\u001b[0m\u001b[0;34m,\u001b[0m \u001b[0mentrystop\u001b[0m\u001b[0;34m=\u001b[0m\u001b[0mentrystop\u001b[0m\u001b[0;34m,\u001b[0m \u001b[0mflatten\u001b[0m\u001b[0;34m=\u001b[0m\u001b[0mflatten\u001b[0m\u001b[0;34m,\u001b[0m \u001b[0mawkwardlib\u001b[0m\u001b[0;34m=\u001b[0m\u001b[0mawkwardlib\u001b[0m\u001b[0;34m,\u001b[0m \u001b[0mcache\u001b[0m\u001b[0;34m=\u001b[0m\u001b[0mcache\u001b[0m\u001b[0;34m,\u001b[0m \u001b[0mbasketcache\u001b[0m\u001b[0;34m=\u001b[0m\u001b[0mbasketcache\u001b[0m\u001b[0;34m,\u001b[0m \u001b[0mkeycache\u001b[0m\u001b[0;34m=\u001b[0m\u001b[0mkeycache\u001b[0m\u001b[0;34m,\u001b[0m \u001b[0mexecutor\u001b[0m\u001b[0;34m=\u001b[0m\u001b[0mexecutor\u001b[0m\u001b[0;34m,\u001b[0m \u001b[0mblocking\u001b[0m\u001b[0;34m=\u001b[0m\u001b[0mblocking\u001b[0m\u001b[0;34m)\u001b[0m\u001b[0;34m\u001b[0m\u001b[0;34m\u001b[0m\u001b[0m\n\u001b[0m\u001b[1;32m    500\u001b[0m \u001b[0;34m\u001b[0m\u001b[0m\n\u001b[1;32m    501\u001b[0m     \u001b[0;32mdef\u001b[0m \u001b[0marrays\u001b[0m\u001b[0;34m(\u001b[0m\u001b[0mself\u001b[0m\u001b[0;34m,\u001b[0m \u001b[0mbranches\u001b[0m\u001b[0;34m=\u001b[0m\u001b[0mNone\u001b[0m\u001b[0;34m,\u001b[0m \u001b[0moutputtype\u001b[0m\u001b[0;34m=\u001b[0m\u001b[0mdict\u001b[0m\u001b[0;34m,\u001b[0m \u001b[0mnamedecode\u001b[0m\u001b[0;34m=\u001b[0m\u001b[0mNone\u001b[0m\u001b[0;34m,\u001b[0m \u001b[0mentrystart\u001b[0m\u001b[0;34m=\u001b[0m\u001b[0mNone\u001b[0m\u001b[0;34m,\u001b[0m \u001b[0mentrystop\u001b[0m\u001b[0;34m=\u001b[0m\u001b[0mNone\u001b[0m\u001b[0;34m,\u001b[0m \u001b[0mflatten\u001b[0m\u001b[0;34m=\u001b[0m\u001b[0mFalse\u001b[0m\u001b[0;34m,\u001b[0m \u001b[0mflatname\u001b[0m\u001b[0;34m=\u001b[0m\u001b[0mNone\u001b[0m\u001b[0;34m,\u001b[0m \u001b[0mawkwardlib\u001b[0m\u001b[0;34m=\u001b[0m\u001b[0mNone\u001b[0m\u001b[0;34m,\u001b[0m \u001b[0mcache\u001b[0m\u001b[0;34m=\u001b[0m\u001b[0mNone\u001b[0m\u001b[0;34m,\u001b[0m \u001b[0mbasketcache\u001b[0m\u001b[0;34m=\u001b[0m\u001b[0mNone\u001b[0m\u001b[0;34m,\u001b[0m \u001b[0mkeycache\u001b[0m\u001b[0;34m=\u001b[0m\u001b[0mNone\u001b[0m\u001b[0;34m,\u001b[0m \u001b[0mexecutor\u001b[0m\u001b[0;34m=\u001b[0m\u001b[0mNone\u001b[0m\u001b[0;34m,\u001b[0m \u001b[0mblocking\u001b[0m\u001b[0;34m=\u001b[0m\u001b[0mTrue\u001b[0m\u001b[0;34m)\u001b[0m\u001b[0;34m:\u001b[0m\u001b[0;34m\u001b[0m\u001b[0;34m\u001b[0m\u001b[0m\n",
      "\u001b[0;32m/home/oliverkn/cloud/eth/2019_FS/pro/pycharm_ntuplizer/venv/local/lib/python2.7/site-packages/uproot/tree.pyc\u001b[0m in \u001b[0;36marray\u001b[0;34m(self, interpretation, entrystart, entrystop, flatten, awkwardlib, cache, basketcache, keycache, executor, blocking)\u001b[0m\n\u001b[1;32m   1352\u001b[0m             \u001b[0mkeycache\u001b[0m \u001b[0;34m=\u001b[0m \u001b[0;34m{\u001b[0m\u001b[0;34m}\u001b[0m\u001b[0;34m\u001b[0m\u001b[0;34m\u001b[0m\u001b[0m\n\u001b[1;32m   1353\u001b[0m \u001b[0;34m\u001b[0m\u001b[0m\n\u001b[0;32m-> 1354\u001b[0;31m         \u001b[0mbasket_itemoffset\u001b[0m \u001b[0;34m=\u001b[0m \u001b[0mself\u001b[0m\u001b[0;34m.\u001b[0m\u001b[0m_basket_itemoffset\u001b[0m\u001b[0;34m(\u001b[0m\u001b[0minterpretation\u001b[0m\u001b[0;34m,\u001b[0m \u001b[0mbasketstart\u001b[0m\u001b[0;34m,\u001b[0m \u001b[0mbasketstop\u001b[0m\u001b[0;34m,\u001b[0m \u001b[0mkeycache\u001b[0m\u001b[0;34m)\u001b[0m\u001b[0;34m\u001b[0m\u001b[0;34m\u001b[0m\u001b[0m\n\u001b[0m\u001b[1;32m   1355\u001b[0m         \u001b[0mbasket_entryoffset\u001b[0m \u001b[0;34m=\u001b[0m \u001b[0mself\u001b[0m\u001b[0;34m.\u001b[0m\u001b[0m_basket_entryoffset\u001b[0m\u001b[0;34m(\u001b[0m\u001b[0mbasketstart\u001b[0m\u001b[0;34m,\u001b[0m \u001b[0mbasketstop\u001b[0m\u001b[0;34m)\u001b[0m\u001b[0;34m\u001b[0m\u001b[0;34m\u001b[0m\u001b[0m\n\u001b[1;32m   1356\u001b[0m \u001b[0;34m\u001b[0m\u001b[0m\n",
      "\u001b[0;32m/home/oliverkn/cloud/eth/2019_FS/pro/pycharm_ntuplizer/venv/local/lib/python2.7/site-packages/uproot/tree.pyc\u001b[0m in \u001b[0;36m_basket_itemoffset\u001b[0;34m(self, interpretation, basketstart, basketstop, keycache)\u001b[0m\n\u001b[1;32m   1307\u001b[0m         \u001b[0;32mfor\u001b[0m \u001b[0mj\u001b[0m\u001b[0;34m,\u001b[0m \u001b[0mkey\u001b[0m \u001b[0;32min\u001b[0m \u001b[0menumerate\u001b[0m\u001b[0;34m(\u001b[0m\u001b[0mself\u001b[0m\u001b[0;34m.\u001b[0m\u001b[0m_threadsafe_iterate_keys\u001b[0m\u001b[0;34m(\u001b[0m\u001b[0mkeycache\u001b[0m\u001b[0;34m,\u001b[0m \u001b[0mTrue\u001b[0m\u001b[0;34m,\u001b[0m \u001b[0mbasketstart\u001b[0m\u001b[0;34m,\u001b[0m \u001b[0mbasketstop\u001b[0m\u001b[0;34m)\u001b[0m\u001b[0;34m)\u001b[0m\u001b[0;34m:\u001b[0m\u001b[0;34m\u001b[0m\u001b[0;34m\u001b[0m\u001b[0m\n\u001b[1;32m   1308\u001b[0m             \u001b[0mi\u001b[0m \u001b[0;34m=\u001b[0m \u001b[0mbasketstart\u001b[0m \u001b[0;34m+\u001b[0m \u001b[0mj\u001b[0m\u001b[0;34m\u001b[0m\u001b[0;34m\u001b[0m\u001b[0m\n\u001b[0;32m-> 1309\u001b[0;31m             \u001b[0mnumitems\u001b[0m \u001b[0;34m=\u001b[0m \u001b[0minterpretation\u001b[0m\u001b[0;34m.\u001b[0m\u001b[0mnumitems\u001b[0m\u001b[0;34m(\u001b[0m\u001b[0mkey\u001b[0m\u001b[0;34m.\u001b[0m\u001b[0mborder\u001b[0m\u001b[0;34m,\u001b[0m \u001b[0mself\u001b[0m\u001b[0;34m.\u001b[0m\u001b[0mbasket_numentries\u001b[0m\u001b[0;34m(\u001b[0m\u001b[0mi\u001b[0m\u001b[0;34m)\u001b[0m\u001b[0;34m)\u001b[0m\u001b[0;34m\u001b[0m\u001b[0;34m\u001b[0m\u001b[0m\n\u001b[0m\u001b[1;32m   1310\u001b[0m             \u001b[0mbasket_itemoffset\u001b[0m\u001b[0;34m.\u001b[0m\u001b[0mappend\u001b[0m\u001b[0;34m(\u001b[0m\u001b[0mbasket_itemoffset\u001b[0m\u001b[0;34m[\u001b[0m\u001b[0;34m-\u001b[0m\u001b[0;36m1\u001b[0m\u001b[0;34m]\u001b[0m \u001b[0;34m+\u001b[0m \u001b[0mnumitems\u001b[0m\u001b[0;34m)\u001b[0m\u001b[0;34m\u001b[0m\u001b[0;34m\u001b[0m\u001b[0m\n\u001b[1;32m   1311\u001b[0m         \u001b[0;32mreturn\u001b[0m \u001b[0mbasket_itemoffset\u001b[0m\u001b[0;34m\u001b[0m\u001b[0;34m\u001b[0m\u001b[0m\n",
      "\u001b[0;32m/home/oliverkn/cloud/eth/2019_FS/pro/pycharm_ntuplizer/venv/local/lib/python2.7/site-packages/uproot/interp/numerical.pyc\u001b[0m in \u001b[0;36mnumitems\u001b[0;34m(self, numbytes, numentries)\u001b[0m\n\u001b[1;32m    150\u001b[0m         \u001b[0mdtype\u001b[0m\u001b[0;34m,\u001b[0m \u001b[0mshape\u001b[0m \u001b[0;34m=\u001b[0m \u001b[0m_dtypeshape\u001b[0m\u001b[0;34m(\u001b[0m\u001b[0mself\u001b[0m\u001b[0;34m.\u001b[0m\u001b[0mfromdtype\u001b[0m\u001b[0;34m)\u001b[0m\u001b[0;34m\u001b[0m\u001b[0;34m\u001b[0m\u001b[0m\n\u001b[1;32m    151\u001b[0m         \u001b[0mquotient\u001b[0m\u001b[0;34m,\u001b[0m \u001b[0mremainder\u001b[0m \u001b[0;34m=\u001b[0m \u001b[0mdivmod\u001b[0m\u001b[0;34m(\u001b[0m\u001b[0mnumbytes\u001b[0m\u001b[0;34m,\u001b[0m \u001b[0mdtype\u001b[0m\u001b[0;34m.\u001b[0m\u001b[0mitemsize\u001b[0m\u001b[0;34m)\u001b[0m\u001b[0;34m\u001b[0m\u001b[0;34m\u001b[0m\u001b[0m\n\u001b[0;32m--> 152\u001b[0;31m         \u001b[0;32massert\u001b[0m \u001b[0mremainder\u001b[0m \u001b[0;34m==\u001b[0m \u001b[0;36m0\u001b[0m\u001b[0;34m\u001b[0m\u001b[0;34m\u001b[0m\u001b[0m\n\u001b[0m\u001b[1;32m    153\u001b[0m         \u001b[0;32mreturn\u001b[0m \u001b[0mquotient\u001b[0m\u001b[0;34m\u001b[0m\u001b[0;34m\u001b[0m\u001b[0m\n\u001b[1;32m    154\u001b[0m \u001b[0;34m\u001b[0m\u001b[0m\n",
      "\u001b[0;31mAssertionError\u001b[0m: "
     ],
     "output_type": "error"
    }
   ],
   "source": [
    "values = e.array('EventAuxiliary')"
   ]
  },
  {
   "cell_type": "code",
   "execution_count": 11,
   "metadata": {
    "pycharm": {
     "is_executing": false,
     "name": "#%%\n"
    }
   },
   "outputs": [
    {
     "name": "stdout",
     "output_type": "stream",
     "text": [
      "b'recoJetedmRefToBaseProdTofloatsAssociationVector_combinedSecondaryVertexBJetTags__RECO.obj.data_'\n",
      "b'recoJetedmRefToBaseProdTofloatsAssociationVector_combinedSecondaryVertexBJetTags__RECO.obj.ref_.product_'\n",
      "b'recoJetedmRefToBaseProdTofloatsAssociationVector_combinedSecondaryVertexMVABJetTags__RECO.obj.data_'\n",
      "b'recoJetedmRefToBaseProdTofloatsAssociationVector_combinedSecondaryVertexMVABJetTags__RECO.obj.ref_.product_'\n",
      "b'recoJetedmRefToBaseProdTofloatsAssociationVector_ghostTrackBJetTags__RECO.obj.data_'\n",
      "b'recoJetedmRefToBaseProdTofloatsAssociationVector_ghostTrackBJetTags__RECO.obj.ref_.product_'\n",
      "b'recoJetedmRefToBaseProdTofloatsAssociationVector_jetBProbabilityBJetTags__RECO.obj.data_'\n",
      "b'recoJetedmRefToBaseProdTofloatsAssociationVector_jetBProbabilityBJetTags__RECO.obj.ref_.product_'\n",
      "b'recoJetedmRefToBaseProdTofloatsAssociationVector_jetProbabilityBJetTags__RECO.obj.data_'\n",
      "b'recoJetedmRefToBaseProdTofloatsAssociationVector_jetProbabilityBJetTags__RECO.obj.ref_.product_'\n",
      "b'recoJetedmRefToBaseProdTofloatsAssociationVector_simpleSecondaryVertexHighEffBJetTags__RECO.obj.data_'\n",
      "b'recoJetedmRefToBaseProdTofloatsAssociationVector_simpleSecondaryVertexHighEffBJetTags__RECO.obj.ref_.product_'\n",
      "b'recoJetedmRefToBaseProdTofloatsAssociationVector_simpleSecondaryVertexHighPurBJetTags__RECO.obj.data_'\n",
      "b'recoJetedmRefToBaseProdTofloatsAssociationVector_simpleSecondaryVertexHighPurBJetTags__RECO.obj.ref_.product_'\n",
      "b'recoJetedmRefToBaseProdTofloatsAssociationVector_softElectronByIP3dBJetTags__RECO.obj.data_'\n",
      "b'recoJetedmRefToBaseProdTofloatsAssociationVector_softElectronByIP3dBJetTags__RECO.obj.ref_.product_'\n",
      "b'recoJetedmRefToBaseProdTofloatsAssociationVector_softElectronByPtBJetTags__RECO.obj.data_'\n",
      "b'recoJetedmRefToBaseProdTofloatsAssociationVector_softElectronByPtBJetTags__RECO.obj.ref_.product_'\n",
      "b'recoJetedmRefToBaseProdTofloatsAssociationVector_softMuonBJetTags__RECO.obj.data_'\n",
      "b'recoJetedmRefToBaseProdTofloatsAssociationVector_softMuonBJetTags__RECO.obj.ref_.product_'\n",
      "b'recoJetedmRefToBaseProdTofloatsAssociationVector_softMuonByIP3dBJetTags__RECO.obj.data_'\n",
      "b'recoJetedmRefToBaseProdTofloatsAssociationVector_softMuonByIP3dBJetTags__RECO.obj.ref_.product_'\n",
      "b'recoJetedmRefToBaseProdTofloatsAssociationVector_softMuonByPtBJetTags__RECO.obj.data_'\n",
      "b'recoJetedmRefToBaseProdTofloatsAssociationVector_softMuonByPtBJetTags__RECO.obj.ref_.product_'\n",
      "b'recoJetedmRefToBaseProdTofloatsAssociationVector_trackCountingHighEffBJetTags__RECO.obj.data_'\n",
      "b'recoJetedmRefToBaseProdTofloatsAssociationVector_trackCountingHighEffBJetTags__RECO.obj.ref_.product_'\n",
      "b'recoJetedmRefToBaseProdTofloatsAssociationVector_trackCountingHighPurBJetTags__RECO.obj.data_'\n",
      "b'recoJetedmRefToBaseProdTofloatsAssociationVector_trackCountingHighPurBJetTags__RECO.obj.ref_.product_'\n"
     ]
    }
   ],
   "source": [
    "for key in e.keys():\n",
    "    key = key.decode('ascii')\n",
    "    #print(key)\n",
    "    if not key.endswith('.'):\n",
    "        continue\n",
    "        \n",
    "    for key2 in e[key+'obj'].keys():\n",
    "        if 'bjet' in key2.decode('ascii').lower():\n",
    "            print(key2)\n",
    "\n"
   ]
  },
  {
   "cell_type": "code",
   "execution_count": null,
   "metadata": {
    "pycharm": {
     "is_executing": false,
     "name": "#%%\n"
    }
   },
   "outputs": [],
   "source": [
    "\n"
   ]
  }
 ],
 "metadata": {
  "kernelspec": {
   "display_name": "Python 3",
   "language": "python",
   "name": "python3"
  },
  "language_info": {
   "codemirror_mode": {
    "name": "ipython",
    "version": 3
   },
   "file_extension": ".py",
   "mimetype": "text/x-python",
   "name": "python",
   "nbconvert_exporter": "python",
   "pygments_lexer": "ipython3",
   "version": "3.6.8"
  },
  "pycharm": {
   "stem_cell": {
    "cell_type": "raw",
    "source": [],
    "metadata": {
     "collapsed": false
    }
   }
  }
 },
 "nbformat": 4,
 "nbformat_minor": 1
}